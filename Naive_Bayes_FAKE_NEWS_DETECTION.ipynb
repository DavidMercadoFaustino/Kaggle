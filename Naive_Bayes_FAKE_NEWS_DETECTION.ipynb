{
  "nbformat": 4,
  "nbformat_minor": 0,
  "metadata": {
    "kernelspec": {
      "display_name": "Python 3",
      "language": "python",
      "name": "python3"
    },
    "language_info": {
      "codemirror_mode": {
        "name": "ipython",
        "version": 3
      },
      "file_extension": ".py",
      "mimetype": "text/x-python",
      "name": "python",
      "nbconvert_exporter": "python",
      "pygments_lexer": "ipython3",
      "version": "3.7.4"
    },
    "colab": {
      "name": "Naive_Bayes_FAKE_NEWS_DETECTION.ipynb",
      "provenance": [],
      "toc_visible": true,
      "include_colab_link": true
    }
  },
  "cells": [
    {
      "cell_type": "markdown",
      "metadata": {
        "id": "view-in-github",
        "colab_type": "text"
      },
      "source": [
        "<a href=\"https://colab.research.google.com/github/DavidMercadoFaustino/Kaggle/blob/master/Naive_Bayes_FAKE_NEWS_DETECTION.ipynb\" target=\"_parent\"><img src=\"https://colab.research.google.com/assets/colab-badge.svg\" alt=\"Open In Colab\"/></a>"
      ]
    },
    {
      "cell_type": "markdown",
      "metadata": {
        "id": "TtmH8FnJc56Q",
        "colab_type": "text"
      },
      "source": [
        "### Classificador de noticias\n",
        " Esse é um projeto que visa por meio de um dataset com a compilação de noticias de diversos meios de comunicação e sendo categorizado pela veracidade das noticias. \n",
        "\n",
        " Este data set esta no site do Kaggle :https://www.kaggle.com/jruvika/fake-news-detection"
      ]
    },
    {
      "cell_type": "code",
      "metadata": {
        "id": "xjw8FP85c56U",
        "colab_type": "code",
        "colab": {}
      },
      "source": [
        "# Importação de bibliotecas para utilização na Leitura e na manipulação de dados\n",
        "import pandas as pd\n",
        "import numpy as np"
      ],
      "execution_count": 1,
      "outputs": []
    },
    {
      "cell_type": "markdown",
      "metadata": {
        "id": "sox21HKCc56Z",
        "colab_type": "text"
      },
      "source": [
        "### Carregamento do Data Set"
      ]
    },
    {
      "cell_type": "code",
      "metadata": {
        "id": "iqhEd8NBc56a",
        "colab_type": "code",
        "colab": {}
      },
      "source": [
        "# Carregamento pelo pandas por meio do read CSV\n",
        "df_fake_news = pd.read_csv(\"/content/Naive_Bayes/data.csv\")"
      ],
      "execution_count": 21,
      "outputs": []
    },
    {
      "cell_type": "code",
      "metadata": {
        "id": "j9IQ9BewG9Az",
        "colab_type": "code",
        "colab": {
          "base_uri": "https://localhost:8080/",
          "height": 197
        },
        "outputId": "686ac26e-8cd3-415a-bac8-2ddf4962f429"
      },
      "source": [
        "df_fake_news.head(5) 'Vizualizar como foi feito o Carregamento'"
      ],
      "execution_count": 23,
      "outputs": [
        {
          "output_type": "execute_result",
          "data": {
            "text/html": [
              "<div>\n",
              "<style scoped>\n",
              "    .dataframe tbody tr th:only-of-type {\n",
              "        vertical-align: middle;\n",
              "    }\n",
              "\n",
              "    .dataframe tbody tr th {\n",
              "        vertical-align: top;\n",
              "    }\n",
              "\n",
              "    .dataframe thead th {\n",
              "        text-align: right;\n",
              "    }\n",
              "</style>\n",
              "<table border=\"1\" class=\"dataframe\">\n",
              "  <thead>\n",
              "    <tr style=\"text-align: right;\">\n",
              "      <th></th>\n",
              "      <th>URLs</th>\n",
              "      <th>Headline</th>\n",
              "      <th>Body</th>\n",
              "      <th>Label</th>\n",
              "    </tr>\n",
              "  </thead>\n",
              "  <tbody>\n",
              "    <tr>\n",
              "      <th>0</th>\n",
              "      <td>http://www.bbc.com/news/world-us-canada-414191...</td>\n",
              "      <td>Four ways Bob Corker skewered Donald Trump</td>\n",
              "      <td>Image copyright Getty Images\\nOn Sunday mornin...</td>\n",
              "      <td>1</td>\n",
              "    </tr>\n",
              "    <tr>\n",
              "      <th>1</th>\n",
              "      <td>https://www.reuters.com/article/us-filmfestiva...</td>\n",
              "      <td>Linklater's war veteran comedy speaks to moder...</td>\n",
              "      <td>LONDON (Reuters) - “Last Flag Flying”, a comed...</td>\n",
              "      <td>1</td>\n",
              "    </tr>\n",
              "    <tr>\n",
              "      <th>2</th>\n",
              "      <td>https://www.nytimes.com/2017/10/09/us/politics...</td>\n",
              "      <td>Trump’s Fight With Corker Jeopardizes His Legi...</td>\n",
              "      <td>The feud broke into public view last week when...</td>\n",
              "      <td>1</td>\n",
              "    </tr>\n",
              "    <tr>\n",
              "      <th>3</th>\n",
              "      <td>https://www.reuters.com/article/us-mexico-oil-...</td>\n",
              "      <td>Egypt's Cheiron wins tie-up with Pemex for Mex...</td>\n",
              "      <td>MEXICO CITY (Reuters) - Egypt’s Cheiron Holdin...</td>\n",
              "      <td>1</td>\n",
              "    </tr>\n",
              "    <tr>\n",
              "      <th>4</th>\n",
              "      <td>http://www.cnn.com/videos/cnnmoney/2017/10/08/...</td>\n",
              "      <td>Jason Aldean opens 'SNL' with Vegas tribute</td>\n",
              "      <td>Country singer Jason Aldean, who was performin...</td>\n",
              "      <td>1</td>\n",
              "    </tr>\n",
              "  </tbody>\n",
              "</table>\n",
              "</div>"
            ],
            "text/plain": [
              "                                                URLs  ... Label\n",
              "0  http://www.bbc.com/news/world-us-canada-414191...  ...     1\n",
              "1  https://www.reuters.com/article/us-filmfestiva...  ...     1\n",
              "2  https://www.nytimes.com/2017/10/09/us/politics...  ...     1\n",
              "3  https://www.reuters.com/article/us-mexico-oil-...  ...     1\n",
              "4  http://www.cnn.com/videos/cnnmoney/2017/10/08/...  ...     1\n",
              "\n",
              "[5 rows x 4 columns]"
            ]
          },
          "metadata": {
            "tags": []
          },
          "execution_count": 23
        }
      ]
    },
    {
      "cell_type": "code",
      "metadata": {
        "id": "27GcOqPifB99",
        "colab_type": "code",
        "colab": {
          "base_uri": "https://localhost:8080/",
          "height": 167
        },
        "outputId": "2dcd1e7c-b11e-4979-d36e-4f5fd6a570ad"
      },
      "source": [
        "# Analise da qualidade dos dados importados\n",
        "df_fake_news.describe()"
      ],
      "execution_count": 39,
      "outputs": [
        {
          "output_type": "execute_result",
          "data": {
            "text/html": [
              "<div>\n",
              "<style scoped>\n",
              "    .dataframe tbody tr th:only-of-type {\n",
              "        vertical-align: middle;\n",
              "    }\n",
              "\n",
              "    .dataframe tbody tr th {\n",
              "        vertical-align: top;\n",
              "    }\n",
              "\n",
              "    .dataframe thead th {\n",
              "        text-align: right;\n",
              "    }\n",
              "</style>\n",
              "<table border=\"1\" class=\"dataframe\">\n",
              "  <thead>\n",
              "    <tr style=\"text-align: right;\">\n",
              "      <th></th>\n",
              "      <th>URLs</th>\n",
              "      <th>Headline</th>\n",
              "      <th>Body</th>\n",
              "      <th>Label</th>\n",
              "    </tr>\n",
              "  </thead>\n",
              "  <tbody>\n",
              "    <tr>\n",
              "      <th>count</th>\n",
              "      <td>4009</td>\n",
              "      <td>4009</td>\n",
              "      <td>3988</td>\n",
              "      <td>4009</td>\n",
              "    </tr>\n",
              "    <tr>\n",
              "      <th>unique</th>\n",
              "      <td>3352</td>\n",
              "      <td>2831</td>\n",
              "      <td>2862</td>\n",
              "      <td>2</td>\n",
              "    </tr>\n",
              "    <tr>\n",
              "      <th>top</th>\n",
              "      <td>http://beforeitsnews.com/sports/2017/10/2017-f...</td>\n",
              "      <td>9/28 Through the 40s: The Gloaming; HBD Bill, ...</td>\n",
              "      <td>a potato battery can light up a room for over ...</td>\n",
              "      <td>Fake News</td>\n",
              "    </tr>\n",
              "    <tr>\n",
              "      <th>freq</th>\n",
              "      <td>5</td>\n",
              "      <td>6</td>\n",
              "      <td>143</td>\n",
              "      <td>2137</td>\n",
              "    </tr>\n",
              "  </tbody>\n",
              "</table>\n",
              "</div>"
            ],
            "text/plain": [
              "                                                     URLs  ...      Label\n",
              "count                                                4009  ...       4009\n",
              "unique                                               3352  ...          2\n",
              "top     http://beforeitsnews.com/sports/2017/10/2017-f...  ...  Fake News\n",
              "freq                                                    5  ...       2137\n",
              "\n",
              "[4 rows x 4 columns]"
            ]
          },
          "metadata": {
            "tags": []
          },
          "execution_count": 39
        }
      ]
    },
    {
      "cell_type": "markdown",
      "metadata": {
        "id": "MJuo67HHc56i",
        "colab_type": "text"
      },
      "source": [
        "### Análise Descritiva\n",
        "A principio seria analisado o corpo do texto(Body) do Data Frame. Como este possivelmente tem dados faltantes dentro da coluna, foi escolhido a manchete(Headline) para se usar como paramentro da analise."
      ]
    },
    {
      "cell_type": "code",
      "metadata": {
        "id": "A3qnxIv0c56j",
        "colab_type": "code",
        "colab": {}
      },
      "source": [
        "#Importação do Collection para observar melhor os dados que serão analisados\n",
        "from collections import Counter"
      ],
      "execution_count": 11,
      "outputs": []
    },
    {
      "cell_type": "code",
      "metadata": {
        "id": "-1z5LvN7c56m",
        "colab_type": "code",
        "colab": {
          "base_uri": "https://localhost:8080/",
          "height": 34
        },
        "outputId": "fb728480-0dd7-48a8-c7e2-f1e3efd6311c"
      },
      "source": [
        "Counter(df_fake_news[\"Label\"])"
      ],
      "execution_count": 14,
      "outputs": [
        {
          "output_type": "execute_result",
          "data": {
            "text/plain": [
              "Counter({0: 2137, 1: 1872})"
            ]
          },
          "metadata": {
            "tags": []
          },
          "execution_count": 14
        }
      ]
    },
    {
      "cell_type": "code",
      "metadata": {
        "id": "EerwOOf8bIw4",
        "colab_type": "code",
        "colab": {}
      },
      "source": [
        "# Alterar os dados da coluna Label para melhor vizualização dos resultados\n",
        "df_fake_news['Label'].replace(1, 'News',regex=True, inplace=True) "
      ],
      "execution_count": 24,
      "outputs": []
    },
    {
      "cell_type": "code",
      "metadata": {
        "id": "Jqu8BjeObut1",
        "colab_type": "code",
        "colab": {}
      },
      "source": [
        "df_fake_news['Label'].replace(0, 'Fake News',regex=True, inplace=True)"
      ],
      "execution_count": 26,
      "outputs": []
    },
    {
      "cell_type": "code",
      "metadata": {
        "id": "QPw3GDRbcO78",
        "colab_type": "code",
        "colab": {
          "base_uri": "https://localhost:8080/",
          "height": 34
        },
        "outputId": "23d79eb2-9069-4868-cfeb-1885d88f8da4"
      },
      "source": [
        "Counter(df_fake_news[\"Label\"])"
      ],
      "execution_count": 27,
      "outputs": [
        {
          "output_type": "execute_result",
          "data": {
            "text/plain": [
              "Counter({'Fake News': 2137, 'News': 1872})"
            ]
          },
          "metadata": {
            "tags": []
          },
          "execution_count": 27
        }
      ]
    },
    {
      "cell_type": "markdown",
      "metadata": {
        "id": "eHev_YUGn6RQ",
        "colab_type": "text"
      },
      "source": [
        "Apesar do numero maior de Fake News foi tomada decisão de continuar sem retirada de elementos do Data Frame, pois a diferença não me pareceu significante para aplicar um drop() em linhas relativas ao Fake News"
      ]
    },
    {
      "cell_type": "markdown",
      "metadata": {
        "id": "q7do0TY0c56o",
        "colab_type": "text"
      },
      "source": [
        "### Limpeza de Dados\n",
        "Esta parte é importante quando estamos trabalhando com o Naive Bayes para que ele possa ler os padrões e montar um modelo preditivo."
      ]
    },
    {
      "cell_type": "code",
      "metadata": {
        "id": "DP4AWeIKdKcM",
        "colab_type": "code",
        "colab": {
          "base_uri": "https://localhost:8080/",
          "height": 70
        },
        "outputId": "3b885238-c7f5-41cb-a6f6-a4e7bbe2d03d"
      },
      "source": [
        "#importação do NLTK para ajudar no processamento das informações para o Naive Bayes\n",
        "import nltk\n",
        "nltk.download('stopwords')"
      ],
      "execution_count": 15,
      "outputs": [
        {
          "output_type": "stream",
          "text": [
            "[nltk_data] Downloading package stopwords to /root/nltk_data...\n",
            "[nltk_data]   Unzipping corpora/stopwords.zip.\n"
          ],
          "name": "stdout"
        },
        {
          "output_type": "execute_result",
          "data": {
            "text/plain": [
              "True"
            ]
          },
          "metadata": {
            "tags": []
          },
          "execution_count": 15
        }
      ]
    },
    {
      "cell_type": "code",
      "metadata": {
        "id": "XAtrHp8ZdQew",
        "colab_type": "code",
        "colab": {}
      },
      "source": [
        "# Importação das stopwords para fazer a limpeza da coluna Headline\n",
        "from nltk.corpus import stopwords"
      ],
      "execution_count": 16,
      "outputs": []
    },
    {
      "cell_type": "code",
      "metadata": {
        "id": "0PkgGtcsc56s",
        "colab_type": "code",
        "colab": {}
      },
      "source": [
        "# Estabelecendo as stopwords em inglês\n",
        "list_stops_words = stopwords.words(\"english\")"
      ],
      "execution_count": 17,
      "outputs": []
    },
    {
      "cell_type": "code",
      "metadata": {
        "id": "oHttCGhic56w",
        "colab_type": "code",
        "colab": {}
      },
      "source": [
        "df_fake_news[\"Headline\"] = df_fake_news['Headline'].str.lower()"
      ],
      "execution_count": 40,
      "outputs": []
    },
    {
      "cell_type": "code",
      "metadata": {
        "id": "cWmEANXyc56y",
        "colab_type": "code",
        "colab": {}
      },
      "source": [
        "df_fake_news[\"Headline\"].replace('\\n',' ', regex=True, inplace=True)"
      ],
      "execution_count": 41,
      "outputs": []
    },
    {
      "cell_type": "markdown",
      "metadata": {
        "id": "aV4-DnH9c563",
        "colab_type": "text"
      },
      "source": [
        "### Separação em Treinamento e Teste\n",
        "Agora com os dados já tratados temos que estabelecer as porcentagem de treino o nosso modelo de Maachine Learning"
      ]
    },
    {
      "cell_type": "code",
      "metadata": {
        "id": "-arttbeOc564",
        "colab_type": "code",
        "colab": {}
      },
      "source": [
        "#importação do sklearn para criar modelo de previsão\n",
        "from sklearn.model_selection import train_test_split\n",
        "\n",
        "X_train, X_test, y_train, y_test = train_test_split(df_fake_news[\"Headline\"], df_fake_news[\"Label\"], \n",
        "                                                    test_size=0.30, \n",
        "                                                    random_state=42)"
      ],
      "execution_count": 42,
      "outputs": []
    },
    {
      "cell_type": "markdown",
      "metadata": {
        "id": "5Kep5hovtZ74",
        "colab_type": "text"
      },
      "source": [
        "Foi estabelecido um treinamento com 70% dos dados e fazer testes com 30% dos dados. \n",
        "\n",
        "Esse treinamento é importante para que o algoritimo possa melhorar sua capacidade preditiva."
      ]
    },
    {
      "cell_type": "markdown",
      "metadata": {
        "id": "Kdm-fCRsc566",
        "colab_type": "text"
      },
      "source": [
        "### Pipeline Model\n",
        "Foram exportado o **Pipeline** para melhorar o entendimento do codigo, **Naive Bayes** na sua forma de multinomial, ***Count Vectorizer** que segmentas todas as palavras e conta as frequencia de cada uma e o **Tf Idf** Transformer que diminui o peso das palavras mais frequentes."
      ]
    },
    {
      "cell_type": "code",
      "metadata": {
        "id": "nK3unTaXc567",
        "colab_type": "code",
        "colab": {}
      },
      "source": [
        "from sklearn.pipeline import Pipeline\n",
        "from sklearn.naive_bayes import MultinomialNB\n",
        "from sklearn.feature_extraction.text import CountVectorizer\n",
        "from sklearn.feature_extraction.text import TfidfTransformer"
      ],
      "execution_count": 33,
      "outputs": []
    },
    {
      "cell_type": "code",
      "metadata": {
        "id": "Z5U1i0OCc56-",
        "colab_type": "code",
        "colab": {}
      },
      "source": [
        "classify = Pipeline(\n",
        "                [('vect', CountVectorizer(stop_words= list_stops_words)), \n",
        "                 ('tfidf', TfidfTransformer()),\n",
        "                 ('clf', MultinomialNB())\n",
        "                 ])"
      ],
      "execution_count": 43,
      "outputs": []
    },
    {
      "cell_type": "code",
      "metadata": {
        "id": "3DtJ2rqAc57A",
        "colab_type": "code",
        "colab": {
          "base_uri": "https://localhost:8080/",
          "height": 443
        },
        "outputId": "87e81676-9d02-45dd-d759-483e16633d46"
      },
      "source": [
        "# treinamento do nosso modelo\n",
        "classify.fit(X_train, y_train)"
      ],
      "execution_count": 44,
      "outputs": [
        {
          "output_type": "execute_result",
          "data": {
            "text/plain": [
              "Pipeline(memory=None,\n",
              "         steps=[('vect',\n",
              "                 CountVectorizer(analyzer='word', binary=False,\n",
              "                                 decode_error='strict',\n",
              "                                 dtype=<class 'numpy.int64'>, encoding='utf-8',\n",
              "                                 input='content', lowercase=True, max_df=1.0,\n",
              "                                 max_features=None, min_df=1,\n",
              "                                 ngram_range=(1, 1), preprocessor=None,\n",
              "                                 stop_words=['i', 'me', 'my', 'myself', 'we',\n",
              "                                             'our', 'ours', 'ourselves', 'you',\n",
              "                                             \"you're\", \"you've\", \"you'll\",...\n",
              "                                             'yourself', 'yourselves', 'he',\n",
              "                                             'him', 'his', 'himself', 'she',\n",
              "                                             \"she's\", 'her', 'hers', 'herself',\n",
              "                                             'it', \"it's\", 'its', 'itself', ...],\n",
              "                                 strip_accents=None,\n",
              "                                 token_pattern='(?u)\\\\b\\\\w\\\\w+\\\\b',\n",
              "                                 tokenizer=None, vocabulary=None)),\n",
              "                ('tfidf',\n",
              "                 TfidfTransformer(norm='l2', smooth_idf=True,\n",
              "                                  sublinear_tf=False, use_idf=True)),\n",
              "                ('clf',\n",
              "                 MultinomialNB(alpha=1.0, class_prior=None, fit_prior=True))],\n",
              "         verbose=False)"
            ]
          },
          "metadata": {
            "tags": []
          },
          "execution_count": 44
        }
      ]
    },
    {
      "cell_type": "markdown",
      "metadata": {
        "id": "YimZ2Ao6c57C",
        "colab_type": "text"
      },
      "source": [
        "### Avaliação do Modelo\n",
        "Agora temos nosso modelo treinado, medimos a capacidade de predição. Que consegue prever cerca de 83%. O Modelo também foi capaz de prever com precisão muito parecida tanto as Fake News quanto as Noticias verdadeira. Mas podemos ver que o modelo tem uma taxa baixa de recall nas Noticias Verdadeiras, que pode ser por conta da diferença amostral das duas variaveis."
      ]
    },
    {
      "cell_type": "code",
      "metadata": {
        "id": "qoQ-6LMAc57D",
        "colab_type": "code",
        "colab": {}
      },
      "source": [
        "# Importação do metrics para medir o aprendizado da maquina\n",
        "from sklearn import metrics"
      ],
      "execution_count": 45,
      "outputs": []
    },
    {
      "cell_type": "code",
      "metadata": {
        "id": "QIxMVOMvc57G",
        "colab_type": "code",
        "colab": {
          "base_uri": "https://localhost:8080/",
          "height": 34
        },
        "outputId": "6d7e1274-2dce-4749-a5a4-247add5f6a69"
      },
      "source": [
        "# Medição da precisão do modelo utilizando as amostras\n",
        "classify.score(X_test, y_test)"
      ],
      "execution_count": 46,
      "outputs": [
        {
          "output_type": "execute_result",
          "data": {
            "text/plain": [
              "0.8362427265170407"
            ]
          },
          "metadata": {
            "tags": []
          },
          "execution_count": 46
        }
      ]
    },
    {
      "cell_type": "code",
      "metadata": {
        "id": "hxlEhVtZc57I",
        "colab_type": "code",
        "colab": {
          "base_uri": "https://localhost:8080/",
          "height": 176
        },
        "outputId": "31c9a274-2d65-4100-b17e-206720a17ba2"
      },
      "source": [
        "# Capacidade de predição do modelo\n",
        "preds = classify.predict(X_test)\n",
        "print(metrics.classification_report(y_test, preds))"
      ],
      "execution_count": 47,
      "outputs": [
        {
          "output_type": "stream",
          "text": [
            "              precision    recall  f1-score   support\n",
            "\n",
            "   Fake News       0.83      0.88      0.86       669\n",
            "        News       0.84      0.78      0.81       534\n",
            "\n",
            "    accuracy                           0.84      1203\n",
            "   macro avg       0.84      0.83      0.83      1203\n",
            "weighted avg       0.84      0.84      0.84      1203\n",
            "\n"
          ],
          "name": "stdout"
        }
      ]
    },
    {
      "cell_type": "markdown",
      "metadata": {
        "id": "7oJw3pJKc57L",
        "colab_type": "text"
      },
      "source": [
        "### Predição do Modelo\n",
        "Agora colocando o modelo para predizer uma Manchete"
      ]
    },
    {
      "cell_type": "code",
      "metadata": {
        "id": "OIzmw5gJc57L",
        "colab_type": "code",
        "colab": {}
      },
      "source": [
        "texto  = \"Trump and his allies respond with pseudo-science as US death toll hits 150,000\""
      ],
      "execution_count": 48,
      "outputs": []
    },
    {
      "cell_type": "code",
      "metadata": {
        "id": "EFwFcXHmc57P",
        "colab_type": "code",
        "colab": {
          "base_uri": "https://localhost:8080/",
          "height": 34
        },
        "outputId": "8debb9af-114f-4704-85ce-e2fe34082833"
      },
      "source": [
        "# Testando a predição do modelo\n",
        "classify.predict([texto])"
      ],
      "execution_count": 49,
      "outputs": [
        {
          "output_type": "execute_result",
          "data": {
            "text/plain": [
              "array(['News'], dtype='<U9')"
            ]
          },
          "metadata": {
            "tags": []
          },
          "execution_count": 49
        }
      ]
    },
    {
      "cell_type": "code",
      "metadata": {
        "id": "27bccfOrNxry",
        "colab_type": "code",
        "colab": {
          "base_uri": "https://localhost:8080/",
          "height": 34
        },
        "outputId": "46c508af-7b3d-4a08-f390-010d877907c2"
      },
      "source": [
        "# Base da decisão pela classificação como News\n",
        "classify.predict_proba([texto])"
      ],
      "execution_count": 51,
      "outputs": [
        {
          "output_type": "execute_result",
          "data": {
            "text/plain": [
              "array([[0.4626499, 0.5373501]])"
            ]
          },
          "metadata": {
            "tags": []
          },
          "execution_count": 51
        }
      ]
    },
    {
      "cell_type": "markdown",
      "metadata": {
        "id": "PQYd0Q9hc57S",
        "colab_type": "text"
      },
      "source": [
        "### Export Models"
      ]
    },
    {
      "cell_type": "code",
      "metadata": {
        "id": "mQKADn1Gc57T",
        "colab_type": "code",
        "colab": {
          "base_uri": "https://localhost:8080/",
          "height": 71
        },
        "outputId": "a7adceb4-d83f-47a9-c89b-23ea71d4b057"
      },
      "source": [
        "from sklearn.externals import joblib"
      ],
      "execution_count": null,
      "outputs": [
        {
          "output_type": "stream",
          "text": [
            "/usr/local/lib/python3.6/dist-packages/sklearn/externals/joblib/__init__.py:15: FutureWarning: sklearn.externals.joblib is deprecated in 0.21 and will be removed in 0.23. Please import this functionality directly from joblib, which can be installed with: pip install joblib. If this warning is raised when loading pickled models, you may need to re-serialize those models with scikit-learn 0.21+.\n",
            "  warnings.warn(msg, category=FutureWarning)\n"
          ],
          "name": "stderr"
        }
      ]
    },
    {
      "cell_type": "code",
      "metadata": {
        "id": "vhaonjNlc57V",
        "colab_type": "code",
        "colab": {
          "base_uri": "https://localhost:8080/",
          "height": 34
        },
        "outputId": "6425f1ba-4027-47c7-c7e7-65dea1e41e6e"
      },
      "source": [
        "filename = 'classification_music.david'\n",
        "joblib.dump(classify, filename)"
      ],
      "execution_count": null,
      "outputs": [
        {
          "output_type": "execute_result",
          "data": {
            "text/plain": [
              "['classification_music.david']"
            ]
          },
          "metadata": {
            "tags": []
          },
          "execution_count": 46
        }
      ]
    },
    {
      "cell_type": "code",
      "metadata": {
        "id": "tJO6Wldzc57Y",
        "colab_type": "code",
        "colab": {}
      },
      "source": [
        "model_david = joblib.load('classification_music.david')"
      ],
      "execution_count": null,
      "outputs": []
    },
    {
      "cell_type": "code",
      "metadata": {
        "id": "To0tDoiZPvjk",
        "colab_type": "code",
        "colab": {
          "base_uri": "https://localhost:8080/",
          "height": 34
        },
        "outputId": "fed72aba-a0ca-4db6-b48c-33a593b89234"
      },
      "source": [
        "model_david.predict([texto])"
      ],
      "execution_count": null,
      "outputs": [
        {
          "output_type": "execute_result",
          "data": {
            "text/plain": [
              "array(['FUNK'], dtype='<U10')"
            ]
          },
          "metadata": {
            "tags": []
          },
          "execution_count": 49
        }
      ]
    },
    {
      "cell_type": "code",
      "metadata": {
        "id": "4xWBPaQcPzLB",
        "colab_type": "code",
        "colab": {}
      },
      "source": [
        ""
      ],
      "execution_count": null,
      "outputs": []
    }
  ]
}