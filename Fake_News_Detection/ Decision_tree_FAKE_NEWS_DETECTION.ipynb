{
  "nbformat": 4,
  "nbformat_minor": 0,
  "metadata": {
    "colab": {
      "name": "Decision_tree_FAKE_NEWS_DETECTION.ipynb",
      "provenance": [],
      "collapsed_sections": [],
      "authorship_tag": "ABX9TyMLCEXWLjt+1b/IcAJiuW6o",
      "include_colab_link": true
    },
    "kernelspec": {
      "name": "python3",
      "display_name": "Python 3"
    }
  },
  "cells": [
    {
      "cell_type": "markdown",
      "metadata": {
        "id": "view-in-github",
        "colab_type": "text"
      },
      "source": [
        "<a href=\"https://colab.research.google.com/github/DavidMercadoFaustino/Kaggle/blob/master/Fake_News_Detection/%20Decision_tree_FAKE_NEWS_DETECTION.ipynb\" target=\"_parent\"><img src=\"https://colab.research.google.com/assets/colab-badge.svg\" alt=\"Open In Colab\"/></a>"
      ]
    },
    {
      "cell_type": "code",
      "metadata": {
        "id": "hyTnpXCn0sMK",
        "colab_type": "code",
        "colab": {}
      },
      "source": [
        "# Importação de bibliotecas para utilização na Leitura e na manipulação de dados\n",
        "import pandas as pd\n",
        "import numpy as np\n",
        "from collections import Counter\n",
        "import re\n",
        "import os\n",
        "import matplotlib.pyplot as plt\n"
      ],
      "execution_count": 2,
      "outputs": []
    },
    {
      "cell_type": "code",
      "metadata": {
        "id": "HRLht8d0yLVR",
        "colab_type": "code",
        "colab": {
          "base_uri": "https://localhost:8080/",
          "height": 68
        },
        "outputId": "1389ca37-5a85-4124-f434-464552c1e428"
      },
      "source": [
        "\n",
        "for dirname, _, filenames in os.walk('/content/Kaggle'):\n",
        "    for filename in filenames:\n",
        "        print(os.path.join(dirname, filename))"
      ],
      "execution_count": 17,
      "outputs": [
        {
          "output_type": "stream",
          "text": [
            "/content/Kaggle/test.csv\n",
            "/content/Kaggle/train.csv\n",
            "/content/Kaggle/submit.csv\n"
          ],
          "name": "stdout"
        }
      ]
    },
    {
      "cell_type": "code",
      "metadata": {
        "id": "NWcz-rwa08WG",
        "colab_type": "code",
        "colab": {}
      },
      "source": [
        "# Carregamento pelo pandas \n",
        "df_test = pd.read_csv('/content/Kaggle/test.csv')\n",
        "df_train = pd.read_csv('/content/Kaggle/train.csv')\n",
        "df_submit = pd.read_csv('/content/Kaggle/submit.csv')"
      ],
      "execution_count": 72,
      "outputs": []
    },
    {
      "cell_type": "code",
      "metadata": {
        "id": "NMkZEOYJxkm1",
        "colab_type": "code",
        "colab": {
          "base_uri": "https://localhost:8080/",
          "height": 204
        },
        "outputId": "9fa4b392-e12d-4be8-e433-83d66b7aca17"
      },
      "source": [
        "df_train.tail()"
      ],
      "execution_count": 19,
      "outputs": [
        {
          "output_type": "execute_result",
          "data": {
            "text/html": [
              "<div>\n",
              "<style scoped>\n",
              "    .dataframe tbody tr th:only-of-type {\n",
              "        vertical-align: middle;\n",
              "    }\n",
              "\n",
              "    .dataframe tbody tr th {\n",
              "        vertical-align: top;\n",
              "    }\n",
              "\n",
              "    .dataframe thead th {\n",
              "        text-align: right;\n",
              "    }\n",
              "</style>\n",
              "<table border=\"1\" class=\"dataframe\">\n",
              "  <thead>\n",
              "    <tr style=\"text-align: right;\">\n",
              "      <th></th>\n",
              "      <th>id</th>\n",
              "      <th>title</th>\n",
              "      <th>author</th>\n",
              "      <th>text</th>\n",
              "      <th>label</th>\n",
              "    </tr>\n",
              "  </thead>\n",
              "  <tbody>\n",
              "    <tr>\n",
              "      <th>20795</th>\n",
              "      <td>20795</td>\n",
              "      <td>Rapper T.I.: Trump a ’Poster Child For White S...</td>\n",
              "      <td>Jerome Hudson</td>\n",
              "      <td>Rapper T. I. unloaded on black celebrities who...</td>\n",
              "      <td>0</td>\n",
              "    </tr>\n",
              "    <tr>\n",
              "      <th>20796</th>\n",
              "      <td>20796</td>\n",
              "      <td>N.F.L. Playoffs: Schedule, Matchups and Odds -...</td>\n",
              "      <td>Benjamin Hoffman</td>\n",
              "      <td>When the Green Bay Packers lost to the Washing...</td>\n",
              "      <td>0</td>\n",
              "    </tr>\n",
              "    <tr>\n",
              "      <th>20797</th>\n",
              "      <td>20797</td>\n",
              "      <td>Macy’s Is Said to Receive Takeover Approach by...</td>\n",
              "      <td>Michael J. de la Merced and Rachel Abrams</td>\n",
              "      <td>The Macy’s of today grew from the union of sev...</td>\n",
              "      <td>0</td>\n",
              "    </tr>\n",
              "    <tr>\n",
              "      <th>20798</th>\n",
              "      <td>20798</td>\n",
              "      <td>NATO, Russia To Hold Parallel Exercises In Bal...</td>\n",
              "      <td>Alex Ansary</td>\n",
              "      <td>NATO, Russia To Hold Parallel Exercises In Bal...</td>\n",
              "      <td>1</td>\n",
              "    </tr>\n",
              "    <tr>\n",
              "      <th>20799</th>\n",
              "      <td>20799</td>\n",
              "      <td>What Keeps the F-35 Alive</td>\n",
              "      <td>David Swanson</td>\n",
              "      <td>David Swanson is an author, activist, journa...</td>\n",
              "      <td>1</td>\n",
              "    </tr>\n",
              "  </tbody>\n",
              "</table>\n",
              "</div>"
            ],
            "text/plain": [
              "          id  ... label\n",
              "20795  20795  ...     0\n",
              "20796  20796  ...     0\n",
              "20797  20797  ...     0\n",
              "20798  20798  ...     1\n",
              "20799  20799  ...     1\n",
              "\n",
              "[5 rows x 5 columns]"
            ]
          },
          "metadata": {
            "tags": []
          },
          "execution_count": 19
        }
      ]
    },
    {
      "cell_type": "markdown",
      "metadata": {
        "id": "OXE8JjggnVwj",
        "colab_type": "text"
      },
      "source": [
        "# Limpeza dos Dados"
      ]
    },
    {
      "cell_type": "code",
      "metadata": {
        "id": "tvNz_atJ0mCE",
        "colab_type": "code",
        "colab": {
          "base_uri": "https://localhost:8080/",
          "height": 119
        },
        "outputId": "cdef2b74-65bb-4860-d41a-abdd852abd17"
      },
      "source": [
        "#verificarção dos dados faltantes\n",
        "df_train.isnull().sum()"
      ],
      "execution_count": 77,
      "outputs": [
        {
          "output_type": "execute_result",
          "data": {
            "text/plain": [
              "id           0\n",
              "title      558\n",
              "author    1957\n",
              "text        39\n",
              "label        0\n",
              "dtype: int64"
            ]
          },
          "metadata": {
            "tags": []
          },
          "execution_count": 77
        }
      ]
    },
    {
      "cell_type": "code",
      "metadata": {
        "id": "WhvAUTxH0wvv",
        "colab_type": "code",
        "colab": {}
      },
      "source": [
        "#excluir as linhas faltantes no titulo e na corpo do texto\n",
        "df_train.dropna(subset=['title'], axis=0, inplace=True)"
      ],
      "execution_count": 78,
      "outputs": []
    },
    {
      "cell_type": "code",
      "metadata": {
        "id": "_SKbMQXGMAY4",
        "colab_type": "code",
        "colab": {}
      },
      "source": [
        "df_train.dropna(subset=['text'], axis=0, inplace=True)"
      ],
      "execution_count": 79,
      "outputs": []
    },
    {
      "cell_type": "code",
      "metadata": {
        "id": "6T71nqIG9CRq",
        "colab_type": "code",
        "colab": {
          "base_uri": "https://localhost:8080/",
          "height": 102
        },
        "outputId": "c71a519d-9d8d-4db2-949e-a61b2115d0fd"
      },
      "source": [
        "df_test.isnull().sum()"
      ],
      "execution_count": 80,
      "outputs": [
        {
          "output_type": "execute_result",
          "data": {
            "text/plain": [
              "id          0\n",
              "title     122\n",
              "author    503\n",
              "text        7\n",
              "dtype: int64"
            ]
          },
          "metadata": {
            "tags": []
          },
          "execution_count": 80
        }
      ]
    },
    {
      "cell_type": "code",
      "metadata": {
        "id": "zTgwV3Kq1kXa",
        "colab_type": "code",
        "colab": {}
      },
      "source": [
        "df_test.dropna(subset=['title'], axis=0, inplace=True)\n",
        "df_test.dropna(subset=['text'], axis=0, inplace=True)"
      ],
      "execution_count": 81,
      "outputs": []
    },
    {
      "cell_type": "code",
      "metadata": {
        "id": "sFM7WjKG1pVw",
        "colab_type": "code",
        "colab": {
          "base_uri": "https://localhost:8080/",
          "height": 204
        },
        "outputId": "b3ba47c7-1702-4cf4-b994-6f61278a1a75"
      },
      "source": [
        "print(df_train.isnull().sum())\n",
        "print(df_test.isnull().sum())"
      ],
      "execution_count": 82,
      "outputs": [
        {
          "output_type": "stream",
          "text": [
            "id           0\n",
            "title        0\n",
            "author    1918\n",
            "text         0\n",
            "label        0\n",
            "dtype: int64\n",
            "id          0\n",
            "title       0\n",
            "author    496\n",
            "text        0\n",
            "dtype: int64\n"
          ],
          "name": "stdout"
        }
      ]
    },
    {
      "cell_type": "code",
      "metadata": {
        "id": "Ni-ZYeaPnTLT",
        "colab_type": "code",
        "colab": {
          "base_uri": "https://localhost:8080/",
          "height": 51
        },
        "outputId": "a9a7b515-042e-40dd-fa5f-f7f6b0263f5b"
      },
      "source": [
        "#importação do Natural Toolkits para fazer as limpezas para analises\n",
        "import nltk\n",
        "nltk.download('stopwords')\n",
        "from nltk.corpus import stopwords"
      ],
      "execution_count": 41,
      "outputs": [
        {
          "output_type": "stream",
          "text": [
            "[nltk_data] Downloading package stopwords to /root/nltk_data...\n",
            "[nltk_data]   Unzipping corpora/stopwords.zip.\n"
          ],
          "name": "stdout"
        }
      ]
    },
    {
      "cell_type": "code",
      "metadata": {
        "id": "nt2xCbvznjds",
        "colab_type": "code",
        "colab": {}
      },
      "source": [
        "list_stops_words = stopwords.words(\"english\")\n",
        "df[\"title\"] = df['title'].str.lower()\n",
        "df[\"title\"].replace('\\n',' ', regex=True, inplace=True)"
      ],
      "execution_count": 42,
      "outputs": []
    },
    {
      "cell_type": "markdown",
      "metadata": {
        "id": "FEHW6XLPntYw",
        "colab_type": "text"
      },
      "source": [
        "# Preparação dos dados"
      ]
    },
    {
      "cell_type": "code",
      "metadata": {
        "id": "_BKcraO1nqpk",
        "colab_type": "code",
        "colab": {}
      },
      "source": [
        "# Dividiremos as amostras para Treino e para teste\n",
        "\n",
        "from sklearn.model_selection import train_test_split\n",
        "\n",
        "X_train, X_test, y_train, y_test = train_test_split(df_train[\"title\"], df_train[\"label\"], \n",
        "                                                    test_size=0.30, \n",
        "                                                    random_state=42)"
      ],
      "execution_count": 89,
      "outputs": []
    },
    {
      "cell_type": "code",
      "metadata": {
        "id": "p_Byv_6en2lE",
        "colab_type": "code",
        "colab": {}
      },
      "source": [
        "from sklearn.pipeline import Pipeline\n",
        "from sklearn.tree import DecisionTreeClassifier\n",
        "from sklearn.feature_extraction.text import CountVectorizer\n",
        "from sklearn.feature_extraction.text import TfidfTransformer\n",
        "from sklearn.decomposition import PCA"
      ],
      "execution_count": 90,
      "outputs": []
    },
    {
      "cell_type": "code",
      "metadata": {
        "id": "KMbY55unoDIz",
        "colab_type": "code",
        "colab": {}
      },
      "source": [
        "classify = Pipeline(\n",
        "                [('vect', CountVectorizer(stop_words= list_stops_words,ngram_range=(1,2))), \n",
        "                 ('tfidf', TfidfTransformer()),\n",
        "                 ('clf', DecisionTreeClassifier (max_depth = 2, random_state = 0))])"
      ],
      "execution_count": 112,
      "outputs": []
    },
    {
      "cell_type": "markdown",
      "metadata": {
        "id": "P_MQYYVloRUP",
        "colab_type": "text"
      },
      "source": [
        "# Treinamento e Teste do modelo\n",
        "\n",
        "Nesse primeiro momento vamos analisar primeiramente o modelo de decisão em árvore aplicada para o titulos das matérias."
      ]
    },
    {
      "cell_type": "code",
      "metadata": {
        "id": "Xn3qJ7LOoOyC",
        "colab_type": "code",
        "colab": {
          "base_uri": "https://localhost:8080/",
          "height": 408
        },
        "outputId": "daa6d712-c376-436d-a8c7-cb99574dc40b"
      },
      "source": [
        "# treinamento do nosso modelo\n",
        "classify.fit(X_train, y_train)"
      ],
      "execution_count": 113,
      "outputs": [
        {
          "output_type": "execute_result",
          "data": {
            "text/plain": [
              "Pipeline(memory=None,\n",
              "         steps=[('vect',\n",
              "                 CountVectorizer(analyzer='word', binary=False,\n",
              "                                 decode_error='strict',\n",
              "                                 dtype=<class 'numpy.int64'>, encoding='utf-8',\n",
              "                                 input='content', lowercase=True, max_df=1.0,\n",
              "                                 max_features=None, min_df=1,\n",
              "                                 ngram_range=(1, 2), preprocessor=None,\n",
              "                                 stop_words=['i', 'me', 'my', 'myself', 'we',\n",
              "                                             'our', 'ours', 'ourselves', 'you',\n",
              "                                             \"you're\", \"you've\", \"you'll\",...\n",
              "                                  sublinear_tf=False, use_idf=True)),\n",
              "                ('clf',\n",
              "                 DecisionTreeClassifier(ccp_alpha=0.0, class_weight=None,\n",
              "                                        criterion='gini', max_depth=2,\n",
              "                                        max_features=None, max_leaf_nodes=None,\n",
              "                                        min_impurity_decrease=0.0,\n",
              "                                        min_impurity_split=None,\n",
              "                                        min_samples_leaf=1, min_samples_split=2,\n",
              "                                        min_weight_fraction_leaf=0.0,\n",
              "                                        presort='deprecated', random_state=0,\n",
              "                                        splitter='best'))],\n",
              "         verbose=False)"
            ]
          },
          "metadata": {
            "tags": []
          },
          "execution_count": 113
        }
      ]
    },
    {
      "cell_type": "code",
      "metadata": {
        "id": "oH6Hdr62ohOm",
        "colab_type": "code",
        "colab": {}
      },
      "source": [
        "# Importação do metrics para medir o aprendizado da maquina\n",
        "from sklearn import metrics"
      ],
      "execution_count": 107,
      "outputs": []
    },
    {
      "cell_type": "code",
      "metadata": {
        "id": "Y3KmUaDMolPT",
        "colab_type": "code",
        "colab": {
          "base_uri": "https://localhost:8080/",
          "height": 34
        },
        "outputId": "2775907d-86e7-4453-d223-2c64e03dd359"
      },
      "source": [
        "# Medição da precisão do modelo utilizando as amostras\n",
        "classify.score(X_test, y_test)"
      ],
      "execution_count": 114,
      "outputs": [
        {
          "output_type": "execute_result",
          "data": {
            "text/plain": [
              "0.908925919815212"
            ]
          },
          "metadata": {
            "tags": []
          },
          "execution_count": 114
        }
      ]
    },
    {
      "cell_type": "code",
      "metadata": {
        "id": "A_6fB8qOondU",
        "colab_type": "code",
        "colab": {
          "base_uri": "https://localhost:8080/",
          "height": 170
        },
        "outputId": "371a41fb-0247-4686-f0ee-8b3e61c319d0"
      },
      "source": [
        "preds = classify.predict(X_test)\n",
        "print(metrics.classification_report(y_test, preds))"
      ],
      "execution_count": 115,
      "outputs": [
        {
          "output_type": "stream",
          "text": [
            "              precision    recall  f1-score   support\n",
            "\n",
            "           0       1.00      0.82      0.90      3129\n",
            "           1       0.84      1.00      0.91      2932\n",
            "\n",
            "    accuracy                           0.91      6061\n",
            "   macro avg       0.92      0.91      0.91      6061\n",
            "weighted avg       0.92      0.91      0.91      6061\n",
            "\n"
          ],
          "name": "stdout"
        }
      ]
    },
    {
      "cell_type": "code",
      "metadata": {
        "id": "--nt1UlH_E4u",
        "colab_type": "code",
        "colab": {
          "base_uri": "https://localhost:8080/",
          "height": 51
        },
        "outputId": "5f7186a4-7f7a-4945-acc0-10a054bcb8aa"
      },
      "source": [
        "#fazer um cross validation para validar \n",
        "from sklearn.model_selection import cross_val_score\n",
        "\n",
        "X = df_train['title']\n",
        "y = df_train['label']\n",
        "scores = cross_val_score(classify, X, y, cv=10) #CV = Número de K partições\n",
        "scores"
      ],
      "execution_count": 116,
      "outputs": [
        {
          "output_type": "execute_result",
          "data": {
            "text/plain": [
              "array([0.9242949 , 0.89658585, 0.91786244, 0.91584158, 0.90891089,\n",
              "       0.91534653, 0.90891089, 0.89405941, 0.90841584, 0.9039604 ])"
            ]
          },
          "metadata": {
            "tags": []
          },
          "execution_count": 116
        }
      ]
    },
    {
      "cell_type": "code",
      "metadata": {
        "id": "EoPxnMDFA8M7",
        "colab_type": "code",
        "colab": {
          "base_uri": "https://localhost:8080/",
          "height": 34
        },
        "outputId": "85815aae-0d27-4de5-ef44-59ea10e00337"
      },
      "source": [
        "# A média entre as médias \n",
        "scores.mean()"
      ],
      "execution_count": 117,
      "outputs": [
        {
          "output_type": "execute_result",
          "data": {
            "text/plain": [
              "0.9094188740991862"
            ]
          },
          "metadata": {
            "tags": []
          },
          "execution_count": 117
        }
      ]
    },
    {
      "cell_type": "code",
      "metadata": {
        "id": "jvayOUtjCT9w",
        "colab_type": "code",
        "colab": {}
      },
      "source": [
        "# Avaliando a acurácia do modelo com maiores niviveis da árvore\n",
        "max_depth_range = list(range(5, 56,5))\n",
        "\n",
        "accuracy = []\n",
        "depths = []\n",
        "for depth in max_depth_range:\n",
        "        \n",
        "    classify = Pipeline(\n",
        "                [('vect', CountVectorizer(stop_words= list_stops_words,ngram_range=(1,2))), \n",
        "                 ('tfidf', TfidfTransformer()),\n",
        "                 ('clf', DecisionTreeClassifier(max_depth = depth, \n",
        "                             random_state = 0))])\n",
        "    scores = cross_val_score(classify, X, y, cv=10)\n",
        "    score = scores.mean()\n",
        "\n",
        "    accuracy.append(score)\n",
        "    depths.append(depth)"
      ],
      "execution_count": 102,
      "outputs": []
    },
    {
      "cell_type": "code",
      "metadata": {
        "id": "mDOkcFLGF0sZ",
        "colab_type": "code",
        "colab": {
          "base_uri": "https://localhost:8080/",
          "height": 390
        },
        "outputId": "1ae225be-5c1b-47c6-f9ee-d8bb758f4b68"
      },
      "source": [
        "# Analisar os resultados em tabela\n",
        "pd.DataFrame.from_dict({\"max_depth\":depths, \"accuracy\" : accuracy}).sort_values(\"accuracy\",ascending=False)\n"
      ],
      "execution_count": 103,
      "outputs": [
        {
          "output_type": "execute_result",
          "data": {
            "text/html": [
              "<div>\n",
              "<style scoped>\n",
              "    .dataframe tbody tr th:only-of-type {\n",
              "        vertical-align: middle;\n",
              "    }\n",
              "\n",
              "    .dataframe tbody tr th {\n",
              "        vertical-align: top;\n",
              "    }\n",
              "\n",
              "    .dataframe thead th {\n",
              "        text-align: right;\n",
              "    }\n",
              "</style>\n",
              "<table border=\"1\" class=\"dataframe\">\n",
              "  <thead>\n",
              "    <tr style=\"text-align: right;\">\n",
              "      <th></th>\n",
              "      <th>max_depth</th>\n",
              "      <th>accuracy</th>\n",
              "    </tr>\n",
              "  </thead>\n",
              "  <tbody>\n",
              "    <tr>\n",
              "      <th>8</th>\n",
              "      <td>45</td>\n",
              "      <td>0.919862</td>\n",
              "    </tr>\n",
              "    <tr>\n",
              "      <th>10</th>\n",
              "      <td>55</td>\n",
              "      <td>0.919269</td>\n",
              "    </tr>\n",
              "    <tr>\n",
              "      <th>9</th>\n",
              "      <td>50</td>\n",
              "      <td>0.919269</td>\n",
              "    </tr>\n",
              "    <tr>\n",
              "      <th>7</th>\n",
              "      <td>40</td>\n",
              "      <td>0.919219</td>\n",
              "    </tr>\n",
              "    <tr>\n",
              "      <th>5</th>\n",
              "      <td>30</td>\n",
              "      <td>0.918873</td>\n",
              "    </tr>\n",
              "    <tr>\n",
              "      <th>3</th>\n",
              "      <td>20</td>\n",
              "      <td>0.918724</td>\n",
              "    </tr>\n",
              "    <tr>\n",
              "      <th>4</th>\n",
              "      <td>25</td>\n",
              "      <td>0.918576</td>\n",
              "    </tr>\n",
              "    <tr>\n",
              "      <th>6</th>\n",
              "      <td>35</td>\n",
              "      <td>0.918575</td>\n",
              "    </tr>\n",
              "    <tr>\n",
              "      <th>2</th>\n",
              "      <td>15</td>\n",
              "      <td>0.915457</td>\n",
              "    </tr>\n",
              "    <tr>\n",
              "      <th>1</th>\n",
              "      <td>10</td>\n",
              "      <td>0.913923</td>\n",
              "    </tr>\n",
              "    <tr>\n",
              "      <th>0</th>\n",
              "      <td>5</td>\n",
              "      <td>0.913280</td>\n",
              "    </tr>\n",
              "  </tbody>\n",
              "</table>\n",
              "</div>"
            ],
            "text/plain": [
              "    max_depth  accuracy\n",
              "8          45  0.919862\n",
              "10         55  0.919269\n",
              "9          50  0.919269\n",
              "7          40  0.919219\n",
              "5          30  0.918873\n",
              "3          20  0.918724\n",
              "4          25  0.918576\n",
              "6          35  0.918575\n",
              "2          15  0.915457\n",
              "1          10  0.913923\n",
              "0           5  0.913280"
            ]
          },
          "metadata": {
            "tags": []
          },
          "execution_count": 103
        }
      ]
    },
    {
      "cell_type": "code",
      "metadata": {
        "id": "NSu0-sflY9AT",
        "colab_type": "code",
        "colab": {
          "base_uri": "https://localhost:8080/",
          "height": 279
        },
        "outputId": "7d63e662-4695-4fba-8648-5d0c68498857"
      },
      "source": [
        "# Plotagem da acurácia para avaliação da distribuição\n",
        "plt.plot(depths, accuracy, linestyle='--', marker='o', color=\"red\")\n",
        "plt.xlabel(\"Max Depth\")\n",
        "plt.ylabel(\"Accuracy\")\n",
        "plt.show()"
      ],
      "execution_count": 104,
      "outputs": [
        {
          "output_type": "display_data",
          "data": {
            "image/png": "[encoded data removed]",
            "text/plain": [
              "<Figure size 432x288 with 1 Axes>"
            ]
          },
          "metadata": {
            "tags": [],
            "needs_background": "light"
          }
        }
      ]
    },
    {
      "cell_type": "code",
      "metadata": {
        "id": "MxNgldTO-r92",
        "colab_type": "code",
        "colab": {}
      },
      "source": [
        "# Agora aplicando o nivel com maior acurácia para o modelo\n",
        "classify = Pipeline(\n",
        "                [('vect', CountVectorizer(stop_words= list_stops_words,ngram_range=(1,2))), \n",
        "                 ('tfidf', TfidfTransformer()),\n",
        "                 ('clf', DecisionTreeClassifier (max_depth = 45, random_state = 0))])\n"
      ],
      "execution_count": 118,
      "outputs": []
    },
    {
      "cell_type": "code",
      "metadata": {
        "id": "mDTAaBUNALjA",
        "colab_type": "code",
        "colab": {
          "base_uri": "https://localhost:8080/",
          "height": 408
        },
        "outputId": "b3e7157a-dedb-40a9-f07a-8938fa277d4a"
      },
      "source": [
        "classify.fit(X_train, y_train)"
      ],
      "execution_count": 119,
      "outputs": [
        {
          "output_type": "execute_result",
          "data": {
            "text/plain": [
              "Pipeline(memory=None,\n",
              "         steps=[('vect',\n",
              "                 CountVectorizer(analyzer='word', binary=False,\n",
              "                                 decode_error='strict',\n",
              "                                 dtype=<class 'numpy.int64'>, encoding='utf-8',\n",
              "                                 input='content', lowercase=True, max_df=1.0,\n",
              "                                 max_features=None, min_df=1,\n",
              "                                 ngram_range=(1, 2), preprocessor=None,\n",
              "                                 stop_words=['i', 'me', 'my', 'myself', 'we',\n",
              "                                             'our', 'ours', 'ourselves', 'you',\n",
              "                                             \"you're\", \"you've\", \"you'll\",...\n",
              "                                  sublinear_tf=False, use_idf=True)),\n",
              "                ('clf',\n",
              "                 DecisionTreeClassifier(ccp_alpha=0.0, class_weight=None,\n",
              "                                        criterion='gini', max_depth=45,\n",
              "                                        max_features=None, max_leaf_nodes=None,\n",
              "                                        min_impurity_decrease=0.0,\n",
              "                                        min_impurity_split=None,\n",
              "                                        min_samples_leaf=1, min_samples_split=2,\n",
              "                                        min_weight_fraction_leaf=0.0,\n",
              "                                        presort='deprecated', random_state=0,\n",
              "                                        splitter='best'))],\n",
              "         verbose=False)"
            ]
          },
          "metadata": {
            "tags": []
          },
          "execution_count": 119
        }
      ]
    },
    {
      "cell_type": "code",
      "metadata": {
        "id": "k62r8P8WAOGm",
        "colab_type": "code",
        "colab": {
          "base_uri": "https://localhost:8080/",
          "height": 34
        },
        "outputId": "e5756c3a-8d4f-4c96-fc44-cfe2a474f475"
      },
      "source": [
        "classify.score(X_test, y_test)"
      ],
      "execution_count": 120,
      "outputs": [
        {
          "output_type": "execute_result",
          "data": {
            "text/plain": [
              "0.9181653192542485"
            ]
          },
          "metadata": {
            "tags": []
          },
          "execution_count": 120
        }
      ]
    },
    {
      "cell_type": "code",
      "metadata": {
        "id": "kYVY6fP2GxEW",
        "colab_type": "code",
        "colab": {
          "base_uri": "https://localhost:8080/",
          "height": 170
        },
        "outputId": "4b42d22a-b2d9-400c-c0d5-dcb7b5a87063"
      },
      "source": [
        "preds = classify.predict(X_test)\n",
        "print(metrics.classification_report(y_test, preds))"
      ],
      "execution_count": 121,
      "outputs": [
        {
          "output_type": "stream",
          "text": [
            "              precision    recall  f1-score   support\n",
            "\n",
            "           0       0.98      0.86      0.92      3129\n",
            "           1       0.87      0.98      0.92      2932\n",
            "\n",
            "    accuracy                           0.92      6061\n",
            "   macro avg       0.92      0.92      0.92      6061\n",
            "weighted avg       0.92      0.92      0.92      6061\n",
            "\n"
          ],
          "name": "stdout"
        }
      ]
    },
    {
      "cell_type": "markdown",
      "metadata": {
        "id": "Z4DOY56p1sp4",
        "colab_type": "text"
      },
      "source": [
        "# Agora usando o Texto\n",
        "Agora vamos fazer a aplicação do modelo para analise do corpo do texto"
      ]
    },
    {
      "cell_type": "code",
      "metadata": {
        "id": "2baOCtot2kpo",
        "colab_type": "code",
        "colab": {}
      },
      "source": [
        "df_train[\"text\"] = df_train['text'].str.lower()\n",
        "df_train[\"text\"].replace('\\n',' ', regex=True, inplace=True)"
      ],
      "execution_count": 123,
      "outputs": []
    },
    {
      "cell_type": "code",
      "metadata": {
        "id": "1J9dGytIotUE",
        "colab_type": "code",
        "colab": {}
      },
      "source": [
        "\n",
        "X_train, X_test, y_train, y_test = train_test_split(df_train[\"text\"], df_train[\"label\"], \n",
        "                                                    test_size=0.30, \n",
        "                                                    random_state=42)"
      ],
      "execution_count": 124,
      "outputs": []
    },
    {
      "cell_type": "code",
      "metadata": {
        "id": "7xewN5n41-rW",
        "colab_type": "code",
        "colab": {}
      },
      "source": [
        "classify = Pipeline(\n",
        "                [('vect', CountVectorizer(stop_words= list_stops_words,ngram_range=(1,2))), \n",
        "                 ('tfidf', TfidfTransformer()),\n",
        "                 ('clf', DecisionTreeClassifier(max_depth = 45, \n",
        "                             random_state = 0))])"
      ],
      "execution_count": 125,
      "outputs": []
    },
    {
      "cell_type": "code",
      "metadata": {
        "id": "Zq9NKx682B7l",
        "colab_type": "code",
        "colab": {
          "base_uri": "https://localhost:8080/",
          "height": 408
        },
        "outputId": "9abc8a18-045f-44b0-e4e1-c1bd4cf0b224"
      },
      "source": [
        "classify.fit(X_train, y_train)"
      ],
      "execution_count": 126,
      "outputs": [
        {
          "output_type": "execute_result",
          "data": {
            "text/plain": [
              "Pipeline(memory=None,\n",
              "         steps=[('vect',\n",
              "                 CountVectorizer(analyzer='word', binary=False,\n",
              "                                 decode_error='strict',\n",
              "                                 dtype=<class 'numpy.int64'>, encoding='utf-8',\n",
              "                                 input='content', lowercase=True, max_df=1.0,\n",
              "                                 max_features=None, min_df=1,\n",
              "                                 ngram_range=(1, 2), preprocessor=None,\n",
              "                                 stop_words=['i', 'me', 'my', 'myself', 'we',\n",
              "                                             'our', 'ours', 'ourselves', 'you',\n",
              "                                             \"you're\", \"you've\", \"you'll\",...\n",
              "                                  sublinear_tf=False, use_idf=True)),\n",
              "                ('clf',\n",
              "                 DecisionTreeClassifier(ccp_alpha=0.0, class_weight=None,\n",
              "                                        criterion='gini', max_depth=45,\n",
              "                                        max_features=None, max_leaf_nodes=None,\n",
              "                                        min_impurity_decrease=0.0,\n",
              "                                        min_impurity_split=None,\n",
              "                                        min_samples_leaf=1, min_samples_split=2,\n",
              "                                        min_weight_fraction_leaf=0.0,\n",
              "                                        presort='deprecated', random_state=0,\n",
              "                                        splitter='best'))],\n",
              "         verbose=False)"
            ]
          },
          "metadata": {
            "tags": []
          },
          "execution_count": 126
        }
      ]
    },
    {
      "cell_type": "code",
      "metadata": {
        "id": "JhyDvv0J2FzU",
        "colab_type": "code",
        "colab": {
          "base_uri": "https://localhost:8080/",
          "height": 34
        },
        "outputId": "79767ed8-0a10-42c4-87b6-b3398ca1eee0"
      },
      "source": [
        "classify.score(X_test, y_test)"
      ],
      "execution_count": 127,
      "outputs": [
        {
          "output_type": "execute_result",
          "data": {
            "text/plain": [
              "0.8765880217785844"
            ]
          },
          "metadata": {
            "tags": []
          },
          "execution_count": 127
        }
      ]
    },
    {
      "cell_type": "code",
      "metadata": {
        "id": "Mg3dRL2I2JHN",
        "colab_type": "code",
        "colab": {
          "base_uri": "https://localhost:8080/",
          "height": 170
        },
        "outputId": "43f0ebdf-6369-4336-fc68-fe4bb8f3ee19"
      },
      "source": [
        "preds = classify.predict(X_test)\n",
        "print(metrics.classification_report(y_test, preds))"
      ],
      "execution_count": 128,
      "outputs": [
        {
          "output_type": "stream",
          "text": [
            "              precision    recall  f1-score   support\n",
            "\n",
            "           0       0.88      0.89      0.88      3129\n",
            "           1       0.88      0.87      0.87      2932\n",
            "\n",
            "    accuracy                           0.88      6061\n",
            "   macro avg       0.88      0.88      0.88      6061\n",
            "weighted avg       0.88      0.88      0.88      6061\n",
            "\n"
          ],
          "name": "stdout"
        }
      ]
    },
    {
      "cell_type": "code",
      "metadata": {
        "id": "gWYKCsKqId1S",
        "colab_type": "code",
        "colab": {}
      },
      "source": [
        "max_depth_range = list(range(30, 56,5))\n",
        "\n",
        "accuracy = []\n",
        "depths = []\n",
        "for depth in max_depth_range:\n",
        "        \n",
        "    classify = Pipeline(\n",
        "                [('vect', CountVectorizer(stop_words= list_stops_words,ngram_range=(1,2))), \n",
        "                 ('tfidf', TfidfTransformer()),\n",
        "                 ('clf', DecisionTreeClassifier(max_depth = depth, \n",
        "                             random_state = 0))])\n",
        "    scores = cross_val_score(classify, X, y, cv=10)\n",
        "    score = scores.mean()\n",
        "\n",
        "    accuracy.append(score)\n",
        "    depths.append(depth)"
      ],
      "execution_count": 129,
      "outputs": []
    },
    {
      "cell_type": "code",
      "metadata": {
        "id": "zKwqu8t6Jdyv",
        "colab_type": "code",
        "colab": {
          "base_uri": "https://localhost:8080/",
          "height": 235
        },
        "outputId": "d65bf9d0-70d9-41d1-bf3a-9a0ee5f61e31"
      },
      "source": [
        "pd.DataFrame.from_dict({\"max_depth\":depths, \"accuracy\" : accuracy}).sort_values(\"accuracy\",ascending=False)"
      ],
      "execution_count": 130,
      "outputs": [
        {
          "output_type": "execute_result",
          "data": {
            "text/html": [
              "<div>\n",
              "<style scoped>\n",
              "    .dataframe tbody tr th:only-of-type {\n",
              "        vertical-align: middle;\n",
              "    }\n",
              "\n",
              "    .dataframe tbody tr th {\n",
              "        vertical-align: top;\n",
              "    }\n",
              "\n",
              "    .dataframe thead th {\n",
              "        text-align: right;\n",
              "    }\n",
              "</style>\n",
              "<table border=\"1\" class=\"dataframe\">\n",
              "  <thead>\n",
              "    <tr style=\"text-align: right;\">\n",
              "      <th></th>\n",
              "      <th>max_depth</th>\n",
              "      <th>accuracy</th>\n",
              "    </tr>\n",
              "  </thead>\n",
              "  <tbody>\n",
              "    <tr>\n",
              "      <th>3</th>\n",
              "      <td>45</td>\n",
              "      <td>0.919862</td>\n",
              "    </tr>\n",
              "    <tr>\n",
              "      <th>5</th>\n",
              "      <td>55</td>\n",
              "      <td>0.919269</td>\n",
              "    </tr>\n",
              "    <tr>\n",
              "      <th>4</th>\n",
              "      <td>50</td>\n",
              "      <td>0.919269</td>\n",
              "    </tr>\n",
              "    <tr>\n",
              "      <th>2</th>\n",
              "      <td>40</td>\n",
              "      <td>0.919219</td>\n",
              "    </tr>\n",
              "    <tr>\n",
              "      <th>0</th>\n",
              "      <td>30</td>\n",
              "      <td>0.918873</td>\n",
              "    </tr>\n",
              "    <tr>\n",
              "      <th>1</th>\n",
              "      <td>35</td>\n",
              "      <td>0.918575</td>\n",
              "    </tr>\n",
              "  </tbody>\n",
              "</table>\n",
              "</div>"
            ],
            "text/plain": [
              "   max_depth  accuracy\n",
              "3         45  0.919862\n",
              "5         55  0.919269\n",
              "4         50  0.919269\n",
              "2         40  0.919219\n",
              "0         30  0.918873\n",
              "1         35  0.918575"
            ]
          },
          "metadata": {
            "tags": []
          },
          "execution_count": 130
        }
      ]
    },
    {
      "cell_type": "code",
      "metadata": {
        "id": "RT-xYhZkJx1I",
        "colab_type": "code",
        "colab": {
          "base_uri": "https://localhost:8080/",
          "height": 279
        },
        "outputId": "e8094f1a-148b-49ee-bbbb-aa0823d7dcb7"
      },
      "source": [
        "plt.plot(depths, accuracy, linestyle='--', marker='o', color=\"red\")\n",
        "plt.xlabel(\"Max Depth\")\n",
        "plt.ylabel(\"Accuracy\")\n",
        "plt.show()"
      ],
      "execution_count": 131,
      "outputs": [
        {
          "output_type": "display_data",
          "data": {
            "image/png": "[encoded data removed]",
            "text/plain": [
              "<Figure size 432x288 with 1 Axes>"
            ]
          },
          "metadata": {
            "tags": [],
            "needs_background": "light"
          }
        }
      ]
    }
  ]
}