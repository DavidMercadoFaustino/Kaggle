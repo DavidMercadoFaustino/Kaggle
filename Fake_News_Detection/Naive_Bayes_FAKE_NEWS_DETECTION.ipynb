{
  "nbformat": 4,
  "nbformat_minor": 0,
  "metadata": {
    "kernelspec": {
      "display_name": "Python 3",
      "language": "python",
      "name": "python3"
    },
    "language_info": {
      "codemirror_mode": {
        "name": "ipython",
        "version": 3
      },
      "file_extension": ".py",
      "mimetype": "text/x-python",
      "name": "python",
      "nbconvert_exporter": "python",
      "pygments_lexer": "ipython3",
      "version": "3.7.4"
    },
    "colab": {
      "name": "Naive_Bayes_FAKE_NEWS_DETECTION.ipynb",
      "provenance": [],
      "collapsed_sections": [
        "PQYd0Q9hc57S"
      ],
      "include_colab_link": true
    }
  },
  "cells": [
    {
      "cell_type": "markdown",
      "metadata": {
        "id": "view-in-github",
        "colab_type": "text"
      },
      "source": [
        "<a href=\"https://colab.research.google.com/github/DavidMercadoFaustino/Kaggle/blob/master/Fake_News_Detection/Naive_Bayes_FAKE_NEWS_DETECTION.ipynb\" target=\"_parent\"><img src=\"https://colab.research.google.com/assets/colab-badge.svg\" alt=\"Open In Colab\"/></a>"
      ]
    },
    {
      "cell_type": "markdown",
      "metadata": {
        "id": "TtmH8FnJc56Q",
        "colab_type": "text"
      },
      "source": [
        "### Classificador de noticias\n",
        " Esse é um projeto que visa por meio de um dataset com a compilação de noticias de diversos meios de comunicação e sendo categorizado pela veracidade das noticias. \n",
        "\n",
        " Este data set esta no site do Kaggle :https://www.kaggle.com/jruvika/fake-news-detection"
      ]
    },
    {
      "cell_type": "code",
      "metadata": {
        "id": "xjw8FP85c56U",
        "colab_type": "code",
        "colab": {}
      },
      "source": [
        "# Importação de bibliotecas para utilização na Leitura e na manipulação de dados\n",
        "import pandas as pd\n",
        "import numpy as np"
      ],
      "execution_count": 1,
      "outputs": []
    },
    {
      "cell_type": "markdown",
      "metadata": {
        "id": "sox21HKCc56Z",
        "colab_type": "text"
      },
      "source": [
        "### Carregamento do Data Set"
      ]
    },
    {
      "cell_type": "code",
      "metadata": {
        "id": "iqhEd8NBc56a",
        "colab_type": "code",
        "colab": {}
      },
      "source": [
        "# Carregamento pelo pandas por meio do read CSV\n",
        "df_fake_news = pd.read_csv('/content/sample_data/data.csv')"
      ],
      "execution_count": 4,
      "outputs": []
    },
    {
      "cell_type": "code",
      "metadata": {
        "id": "j9IQ9BewG9Az",
        "colab_type": "code",
        "colab": {
          "base_uri": "https://localhost:8080/",
          "height": 198
        },
        "outputId": "f774ce4c-441f-4d1b-e55b-d5c85cbc4776"
      },
      "source": [
        "df_fake_news.head(5) "
      ],
      "execution_count": 5,
      "outputs": [
        {
          "output_type": "execute_result",
          "data": {
            "text/html": [
              "<div>\n",
              "<style scoped>\n",
              "    .dataframe tbody tr th:only-of-type {\n",
              "        vertical-align: middle;\n",
              "    }\n",
              "\n",
              "    .dataframe tbody tr th {\n",
              "        vertical-align: top;\n",
              "    }\n",
              "\n",
              "    .dataframe thead th {\n",
              "        text-align: right;\n",
              "    }\n",
              "</style>\n",
              "<table border=\"1\" class=\"dataframe\">\n",
              "  <thead>\n",
              "    <tr style=\"text-align: right;\">\n",
              "      <th></th>\n",
              "      <th>URLs</th>\n",
              "      <th>Headline</th>\n",
              "      <th>Body</th>\n",
              "      <th>Label</th>\n",
              "    </tr>\n",
              "  </thead>\n",
              "  <tbody>\n",
              "    <tr>\n",
              "      <th>0</th>\n",
              "      <td>http://www.bbc.com/news/world-us-canada-414191...</td>\n",
              "      <td>Four ways Bob Corker skewered Donald Trump</td>\n",
              "      <td>Image copyright Getty Images\\nOn Sunday mornin...</td>\n",
              "      <td>1</td>\n",
              "    </tr>\n",
              "    <tr>\n",
              "      <th>1</th>\n",
              "      <td>https://www.reuters.com/article/us-filmfestiva...</td>\n",
              "      <td>Linklater's war veteran comedy speaks to moder...</td>\n",
              "      <td>LONDON (Reuters) - “Last Flag Flying”, a comed...</td>\n",
              "      <td>1</td>\n",
              "    </tr>\n",
              "    <tr>\n",
              "      <th>2</th>\n",
              "      <td>https://www.nytimes.com/2017/10/09/us/politics...</td>\n",
              "      <td>Trump’s Fight With Corker Jeopardizes His Legi...</td>\n",
              "      <td>The feud broke into public view last week when...</td>\n",
              "      <td>1</td>\n",
              "    </tr>\n",
              "    <tr>\n",
              "      <th>3</th>\n",
              "      <td>https://www.reuters.com/article/us-mexico-oil-...</td>\n",
              "      <td>Egypt's Cheiron wins tie-up with Pemex for Mex...</td>\n",
              "      <td>MEXICO CITY (Reuters) - Egypt’s Cheiron Holdin...</td>\n",
              "      <td>1</td>\n",
              "    </tr>\n",
              "    <tr>\n",
              "      <th>4</th>\n",
              "      <td>http://www.cnn.com/videos/cnnmoney/2017/10/08/...</td>\n",
              "      <td>Jason Aldean opens 'SNL' with Vegas tribute</td>\n",
              "      <td>Country singer Jason Aldean, who was performin...</td>\n",
              "      <td>1</td>\n",
              "    </tr>\n",
              "  </tbody>\n",
              "</table>\n",
              "</div>"
            ],
            "text/plain": [
              "                                                URLs  ... Label\n",
              "0  http://www.bbc.com/news/world-us-canada-414191...  ...     1\n",
              "1  https://www.reuters.com/article/us-filmfestiva...  ...     1\n",
              "2  https://www.nytimes.com/2017/10/09/us/politics...  ...     1\n",
              "3  https://www.reuters.com/article/us-mexico-oil-...  ...     1\n",
              "4  http://www.cnn.com/videos/cnnmoney/2017/10/08/...  ...     1\n",
              "\n",
              "[5 rows x 4 columns]"
            ]
          },
          "metadata": {
            "tags": []
          },
          "execution_count": 5
        }
      ]
    },
    {
      "cell_type": "code",
      "metadata": {
        "id": "27GcOqPifB99",
        "colab_type": "code",
        "colab": {
          "base_uri": "https://localhost:8080/",
          "height": 378
        },
        "outputId": "62b215ab-006a-4eb0-aab1-137c0513a3eb"
      },
      "source": [
        "# Analise da qualidade dos dados importados\n",
        "df_fake_news.describe(include='all')"
      ],
      "execution_count": 7,
      "outputs": [
        {
          "output_type": "execute_result",
          "data": {
            "text/html": [
              "<div>\n",
              "<style scoped>\n",
              "    .dataframe tbody tr th:only-of-type {\n",
              "        vertical-align: middle;\n",
              "    }\n",
              "\n",
              "    .dataframe tbody tr th {\n",
              "        vertical-align: top;\n",
              "    }\n",
              "\n",
              "    .dataframe thead th {\n",
              "        text-align: right;\n",
              "    }\n",
              "</style>\n",
              "<table border=\"1\" class=\"dataframe\">\n",
              "  <thead>\n",
              "    <tr style=\"text-align: right;\">\n",
              "      <th></th>\n",
              "      <th>URLs</th>\n",
              "      <th>Headline</th>\n",
              "      <th>Body</th>\n",
              "      <th>Label</th>\n",
              "    </tr>\n",
              "  </thead>\n",
              "  <tbody>\n",
              "    <tr>\n",
              "      <th>count</th>\n",
              "      <td>4009</td>\n",
              "      <td>4009</td>\n",
              "      <td>3988</td>\n",
              "      <td>4009.000000</td>\n",
              "    </tr>\n",
              "    <tr>\n",
              "      <th>unique</th>\n",
              "      <td>3352</td>\n",
              "      <td>2831</td>\n",
              "      <td>2863</td>\n",
              "      <td>NaN</td>\n",
              "    </tr>\n",
              "    <tr>\n",
              "      <th>top</th>\n",
              "      <td>http://beforeitsnews.com/u-s-politics/2017/10/...</td>\n",
              "      <td>10/5 TRS-PNC Park: Bucs Win in '71, '79; Lose ...</td>\n",
              "      <td>A Potato Battery Can Light up a Room for Over ...</td>\n",
              "      <td>NaN</td>\n",
              "    </tr>\n",
              "    <tr>\n",
              "      <th>freq</th>\n",
              "      <td>5</td>\n",
              "      <td>6</td>\n",
              "      <td>143</td>\n",
              "      <td>NaN</td>\n",
              "    </tr>\n",
              "    <tr>\n",
              "      <th>mean</th>\n",
              "      <td>NaN</td>\n",
              "      <td>NaN</td>\n",
              "      <td>NaN</td>\n",
              "      <td>0.466949</td>\n",
              "    </tr>\n",
              "    <tr>\n",
              "      <th>std</th>\n",
              "      <td>NaN</td>\n",
              "      <td>NaN</td>\n",
              "      <td>NaN</td>\n",
              "      <td>0.498969</td>\n",
              "    </tr>\n",
              "    <tr>\n",
              "      <th>min</th>\n",
              "      <td>NaN</td>\n",
              "      <td>NaN</td>\n",
              "      <td>NaN</td>\n",
              "      <td>0.000000</td>\n",
              "    </tr>\n",
              "    <tr>\n",
              "      <th>25%</th>\n",
              "      <td>NaN</td>\n",
              "      <td>NaN</td>\n",
              "      <td>NaN</td>\n",
              "      <td>0.000000</td>\n",
              "    </tr>\n",
              "    <tr>\n",
              "      <th>50%</th>\n",
              "      <td>NaN</td>\n",
              "      <td>NaN</td>\n",
              "      <td>NaN</td>\n",
              "      <td>0.000000</td>\n",
              "    </tr>\n",
              "    <tr>\n",
              "      <th>75%</th>\n",
              "      <td>NaN</td>\n",
              "      <td>NaN</td>\n",
              "      <td>NaN</td>\n",
              "      <td>1.000000</td>\n",
              "    </tr>\n",
              "    <tr>\n",
              "      <th>max</th>\n",
              "      <td>NaN</td>\n",
              "      <td>NaN</td>\n",
              "      <td>NaN</td>\n",
              "      <td>1.000000</td>\n",
              "    </tr>\n",
              "  </tbody>\n",
              "</table>\n",
              "</div>"
            ],
            "text/plain": [
              "                                                     URLs  ...        Label\n",
              "count                                                4009  ...  4009.000000\n",
              "unique                                               3352  ...          NaN\n",
              "top     http://beforeitsnews.com/u-s-politics/2017/10/...  ...          NaN\n",
              "freq                                                    5  ...          NaN\n",
              "mean                                                  NaN  ...     0.466949\n",
              "std                                                   NaN  ...     0.498969\n",
              "min                                                   NaN  ...     0.000000\n",
              "25%                                                   NaN  ...     0.000000\n",
              "50%                                                   NaN  ...     0.000000\n",
              "75%                                                   NaN  ...     1.000000\n",
              "max                                                   NaN  ...     1.000000\n",
              "\n",
              "[11 rows x 4 columns]"
            ]
          },
          "metadata": {
            "tags": []
          },
          "execution_count": 7
        }
      ]
    },
    {
      "cell_type": "markdown",
      "metadata": {
        "id": "MJuo67HHc56i",
        "colab_type": "text"
      },
      "source": [
        "### Análise Descritiva\n",
        "A principio seria analisado o corpo do texto(Body) do Data Frame. Como este possivelmente tem dados faltantes dentro da coluna, foi escolhido a manchete(Headline) para se usar como paramentro da analise."
      ]
    },
    {
      "cell_type": "code",
      "metadata": {
        "id": "A3qnxIv0c56j",
        "colab_type": "code",
        "colab": {}
      },
      "source": [
        "#Importação do Collection para observar melhor os dados que serão analisados\n",
        "from collections import Counter"
      ],
      "execution_count": 8,
      "outputs": []
    },
    {
      "cell_type": "code",
      "metadata": {
        "id": "-1z5LvN7c56m",
        "colab_type": "code",
        "colab": {
          "base_uri": "https://localhost:8080/",
          "height": 35
        },
        "outputId": "658f9656-326f-4911-d415-05c39a8af2c1"
      },
      "source": [
        "Counter(df_fake_news[\"Label\"])"
      ],
      "execution_count": 9,
      "outputs": [
        {
          "output_type": "execute_result",
          "data": {
            "text/plain": [
              "Counter({0: 2137, 1: 1872})"
            ]
          },
          "metadata": {
            "tags": []
          },
          "execution_count": 9
        }
      ]
    },
    {
      "cell_type": "code",
      "metadata": {
        "id": "EerwOOf8bIw4",
        "colab_type": "code",
        "colab": {}
      },
      "source": [
        "# Alterar os dados da coluna Label para melhor vizualização dos resultados\n",
        "df_fake_news['Label'].replace(1, 'News',regex=True, inplace=True) "
      ],
      "execution_count": 10,
      "outputs": []
    },
    {
      "cell_type": "code",
      "metadata": {
        "id": "Jqu8BjeObut1",
        "colab_type": "code",
        "colab": {}
      },
      "source": [
        "df_fake_news['Label'].replace(0, 'Fake News',regex=True, inplace=True)"
      ],
      "execution_count": 11,
      "outputs": []
    },
    {
      "cell_type": "code",
      "metadata": {
        "id": "QPw3GDRbcO78",
        "colab_type": "code",
        "colab": {
          "base_uri": "https://localhost:8080/",
          "height": 35
        },
        "outputId": "eca469df-e3bb-4a45-8a8d-23cc5da16345"
      },
      "source": [
        "Counter(df_fake_news[\"Label\"])"
      ],
      "execution_count": 12,
      "outputs": [
        {
          "output_type": "execute_result",
          "data": {
            "text/plain": [
              "Counter({'Fake News': 2137, 'News': 1872})"
            ]
          },
          "metadata": {
            "tags": []
          },
          "execution_count": 12
        }
      ]
    },
    {
      "cell_type": "markdown",
      "metadata": {
        "id": "eHev_YUGn6RQ",
        "colab_type": "text"
      },
      "source": [
        "Apesar do numero maior de Fake News foi tomada decisão de continuar sem retirada de elementos do Data Frame, pois a diferença não me pareceu significante para aplicar um drop() em linhas relativas ao Fake News"
      ]
    },
    {
      "cell_type": "markdown",
      "metadata": {
        "id": "q7do0TY0c56o",
        "colab_type": "text"
      },
      "source": [
        "### Limpeza de Dados\n",
        "Esta parte é importante quando estamos trabalhando com o Naive Bayes para que ele possa ler os padrões e montar um modelo preditivo."
      ]
    },
    {
      "cell_type": "code",
      "metadata": {
        "id": "DP4AWeIKdKcM",
        "colab_type": "code",
        "colab": {
          "base_uri": "https://localhost:8080/",
          "height": 72
        },
        "outputId": "b2947106-a1e0-450a-9189-0178dbed2191"
      },
      "source": [
        "#importação do NLTK para ajudar no processamento das informações para o Naive Bayes\n",
        "import nltk\n",
        "nltk.download('stopwords')"
      ],
      "execution_count": 13,
      "outputs": [
        {
          "output_type": "stream",
          "text": [
            "[nltk_data] Downloading package stopwords to /root/nltk_data...\n",
            "[nltk_data]   Unzipping corpora/stopwords.zip.\n"
          ],
          "name": "stdout"
        },
        {
          "output_type": "execute_result",
          "data": {
            "text/plain": [
              "True"
            ]
          },
          "metadata": {
            "tags": []
          },
          "execution_count": 13
        }
      ]
    },
    {
      "cell_type": "code",
      "metadata": {
        "id": "XAtrHp8ZdQew",
        "colab_type": "code",
        "colab": {}
      },
      "source": [
        "# Importação das stopwords para fazer a limpeza da coluna Headline\n",
        "from nltk.corpus import stopwords"
      ],
      "execution_count": 14,
      "outputs": []
    },
    {
      "cell_type": "code",
      "metadata": {
        "id": "0PkgGtcsc56s",
        "colab_type": "code",
        "colab": {}
      },
      "source": [
        "# Estabelecendo as stopwords em inglês\n",
        "list_stops_words = stopwords.words(\"english\")"
      ],
      "execution_count": 15,
      "outputs": []
    },
    {
      "cell_type": "code",
      "metadata": {
        "id": "oHttCGhic56w",
        "colab_type": "code",
        "colab": {}
      },
      "source": [
        "df_fake_news[\"Headline\"] = df_fake_news['Headline'].str.lower()"
      ],
      "execution_count": 16,
      "outputs": []
    },
    {
      "cell_type": "code",
      "metadata": {
        "id": "cWmEANXyc56y",
        "colab_type": "code",
        "colab": {}
      },
      "source": [
        "df_fake_news[\"Headline\"].replace('\\n',' ', regex=True, inplace=True)"
      ],
      "execution_count": 17,
      "outputs": []
    },
    {
      "cell_type": "markdown",
      "metadata": {
        "id": "aV4-DnH9c563",
        "colab_type": "text"
      },
      "source": [
        "### Separação em Treinamento e Teste\n",
        "Agora com os dados já tratados temos que estabelecer as porcentagem de treino o nosso modelo de Maachine Learning"
      ]
    },
    {
      "cell_type": "code",
      "metadata": {
        "id": "-arttbeOc564",
        "colab_type": "code",
        "colab": {}
      },
      "source": [
        "#importação do sklearn para criar modelo de previsão\n",
        "from sklearn.model_selection import train_test_split\n",
        "\n",
        "X_train, X_test, y_train, y_test = train_test_split(df_fake_news[\"Headline\"], df_fake_news[\"Label\"], \n",
        "                                                    test_size=0.30, \n",
        "                                                    random_state=42)"
      ],
      "execution_count": 18,
      "outputs": []
    },
    {
      "cell_type": "markdown",
      "metadata": {
        "id": "5Kep5hovtZ74",
        "colab_type": "text"
      },
      "source": [
        "Foi estabelecido um treinamento com 70% dos dados e fazer testes com 30% dos dados. \n",
        "\n",
        "Esse treinamento é importante para que o algoritimo possa melhorar sua capacidade preditiva."
      ]
    },
    {
      "cell_type": "markdown",
      "metadata": {
        "id": "Kdm-fCRsc566",
        "colab_type": "text"
      },
      "source": [
        "### Pipeline Model\n",
        "Foram exportado o **Pipeline** para melhorar o entendimento do codigo, **Naive Bayes** na sua forma de multinomial, ***Count Vectorizer** que segmentas todas as palavras e conta as frequencia de cada uma e o **Tf Idf** Transformer que diminui o peso das palavras mais frequentes."
      ]
    },
    {
      "cell_type": "code",
      "metadata": {
        "id": "nK3unTaXc567",
        "colab_type": "code",
        "colab": {}
      },
      "source": [
        "from sklearn.pipeline import Pipeline\n",
        "from sklearn.naive_bayes import MultinomialNB\n",
        "from sklearn.feature_extraction.text import CountVectorizer\n",
        "from sklearn.feature_extraction.text import TfidfTransformer"
      ],
      "execution_count": 19,
      "outputs": []
    },
    {
      "cell_type": "code",
      "metadata": {
        "id": "Z5U1i0OCc56-",
        "colab_type": "code",
        "colab": {}
      },
      "source": [
        "classify = Pipeline(\n",
        "                [('vect', CountVectorizer(stop_words= list_stops_words,ngram_range=(1,1))), \n",
        "                 ('tfidf', TfidfTransformer()),\n",
        "                 ('clf', MultinomialNB())\n",
        "                 ])"
      ],
      "execution_count": 22,
      "outputs": []
    },
    {
      "cell_type": "code",
      "metadata": {
        "id": "3DtJ2rqAc57A",
        "colab_type": "code",
        "colab": {
          "base_uri": "https://localhost:8080/",
          "height": 454
        },
        "outputId": "2184b823-b027-4015-ae3a-e6aa454fdc34"
      },
      "source": [
        "# treinamento do nosso modelo\n",
        "classify.fit(X_train, y_train)"
      ],
      "execution_count": 24,
      "outputs": [
        {
          "output_type": "execute_result",
          "data": {
            "text/plain": [
              "Pipeline(memory=None,\n",
              "         steps=[('vect',\n",
              "                 CountVectorizer(analyzer='word', binary=False,\n",
              "                                 decode_error='strict',\n",
              "                                 dtype=<class 'numpy.int64'>, encoding='utf-8',\n",
              "                                 input='content', lowercase=True, max_df=1.0,\n",
              "                                 max_features=None, min_df=1,\n",
              "                                 ngram_range=(1, 1), preprocessor=None,\n",
              "                                 stop_words=['i', 'me', 'my', 'myself', 'we',\n",
              "                                             'our', 'ours', 'ourselves', 'you',\n",
              "                                             \"you're\", \"you've\", \"you'll\",...\n",
              "                                             'yourself', 'yourselves', 'he',\n",
              "                                             'him', 'his', 'himself', 'she',\n",
              "                                             \"she's\", 'her', 'hers', 'herself',\n",
              "                                             'it', \"it's\", 'its', 'itself', ...],\n",
              "                                 strip_accents=None,\n",
              "                                 token_pattern='(?u)\\\\b\\\\w\\\\w+\\\\b',\n",
              "                                 tokenizer=None, vocabulary=None)),\n",
              "                ('tfidf',\n",
              "                 TfidfTransformer(norm='l2', smooth_idf=True,\n",
              "                                  sublinear_tf=False, use_idf=True)),\n",
              "                ('clf',\n",
              "                 MultinomialNB(alpha=1.0, class_prior=None, fit_prior=True))],\n",
              "         verbose=False)"
            ]
          },
          "metadata": {
            "tags": []
          },
          "execution_count": 24
        }
      ]
    },
    {
      "cell_type": "markdown",
      "metadata": {
        "id": "YimZ2Ao6c57C",
        "colab_type": "text"
      },
      "source": [
        "### Avaliação do Modelo\n",
        "Agora temos nosso modelo treinado, medimos a capacidade de predição. Que consegue prever cerca de 83%. O Modelo também foi capaz de prever com precisão muito parecida tanto as Fake News quanto as Noticias verdadeira. Mas podemos ver que o modelo tem uma taxa baixa de recall nas Noticias Verdadeiras, que pode ser por conta da diferença amostral das duas variaveis."
      ]
    },
    {
      "cell_type": "code",
      "metadata": {
        "id": "qoQ-6LMAc57D",
        "colab_type": "code",
        "colab": {}
      },
      "source": [
        "# Importação do metrics para medir o aprendizado da maquina\n",
        "from sklearn import metrics"
      ],
      "execution_count": 25,
      "outputs": []
    },
    {
      "cell_type": "code",
      "metadata": {
        "id": "QIxMVOMvc57G",
        "colab_type": "code",
        "colab": {
          "base_uri": "https://localhost:8080/",
          "height": 35
        },
        "outputId": "5b308c7e-0a1d-4a09-da46-7f17e7ad7572"
      },
      "source": [
        "# Medição da precisão do modelo utilizando as amostras\n",
        "classify.score(X_test, y_test)"
      ],
      "execution_count": 26,
      "outputs": [
        {
          "output_type": "execute_result",
          "data": {
            "text/plain": [
              "0.8362427265170407"
            ]
          },
          "metadata": {
            "tags": []
          },
          "execution_count": 26
        }
      ]
    },
    {
      "cell_type": "code",
      "metadata": {
        "id": "hxlEhVtZc57I",
        "colab_type": "code",
        "colab": {
          "base_uri": "https://localhost:8080/",
          "height": 181
        },
        "outputId": "a0d59254-c43c-4330-b5b8-ee4567fbb1a7"
      },
      "source": [
        "# Capacidade de predição do modelo\n",
        "preds = classify.predict(X_test)\n",
        "print(metrics.classification_report(y_test, preds))"
      ],
      "execution_count": 27,
      "outputs": [
        {
          "output_type": "stream",
          "text": [
            "              precision    recall  f1-score   support\n",
            "\n",
            "   Fake News       0.83      0.88      0.86       669\n",
            "        News       0.84      0.78      0.81       534\n",
            "\n",
            "    accuracy                           0.84      1203\n",
            "   macro avg       0.84      0.83      0.83      1203\n",
            "weighted avg       0.84      0.84      0.84      1203\n",
            "\n"
          ],
          "name": "stdout"
        }
      ]
    },
    {
      "cell_type": "markdown",
      "metadata": {
        "id": "WQwEyXlKuJtv",
        "colab_type": "text"
      },
      "source": [
        "Agora modificando o ngram range de (1,1) para (1,3)"
      ]
    },
    {
      "cell_type": "code",
      "metadata": {
        "id": "1u-EZUayuHv-",
        "colab_type": "code",
        "colab": {}
      },
      "source": [
        "classify = Pipeline(\n",
        "                [('vect', CountVectorizer(stop_words= list_stops_words,ngram_range=(1,3))), \n",
        "                 ('tfidf', TfidfTransformer()),\n",
        "                 ('clf', MultinomialNB())\n",
        "                 ])"
      ],
      "execution_count": 30,
      "outputs": []
    },
    {
      "cell_type": "code",
      "metadata": {
        "id": "EQ9KssBvuaam",
        "colab_type": "code",
        "colab": {
          "base_uri": "https://localhost:8080/",
          "height": 454
        },
        "outputId": "fb5cc547-e05a-4069-b3a4-a5de56140eec"
      },
      "source": [
        "# treinamento do novo modelo\n",
        "classify.fit(X_train, y_train)"
      ],
      "execution_count": 31,
      "outputs": [
        {
          "output_type": "execute_result",
          "data": {
            "text/plain": [
              "Pipeline(memory=None,\n",
              "         steps=[('vect',\n",
              "                 CountVectorizer(analyzer='word', binary=False,\n",
              "                                 decode_error='strict',\n",
              "                                 dtype=<class 'numpy.int64'>, encoding='utf-8',\n",
              "                                 input='content', lowercase=True, max_df=1.0,\n",
              "                                 max_features=None, min_df=1,\n",
              "                                 ngram_range=(1, 3), preprocessor=None,\n",
              "                                 stop_words=['i', 'me', 'my', 'myself', 'we',\n",
              "                                             'our', 'ours', 'ourselves', 'you',\n",
              "                                             \"you're\", \"you've\", \"you'll\",...\n",
              "                                             'yourself', 'yourselves', 'he',\n",
              "                                             'him', 'his', 'himself', 'she',\n",
              "                                             \"she's\", 'her', 'hers', 'herself',\n",
              "                                             'it', \"it's\", 'its', 'itself', ...],\n",
              "                                 strip_accents=None,\n",
              "                                 token_pattern='(?u)\\\\b\\\\w\\\\w+\\\\b',\n",
              "                                 tokenizer=None, vocabulary=None)),\n",
              "                ('tfidf',\n",
              "                 TfidfTransformer(norm='l2', smooth_idf=True,\n",
              "                                  sublinear_tf=False, use_idf=True)),\n",
              "                ('clf',\n",
              "                 MultinomialNB(alpha=1.0, class_prior=None, fit_prior=True))],\n",
              "         verbose=False)"
            ]
          },
          "metadata": {
            "tags": []
          },
          "execution_count": 31
        }
      ]
    },
    {
      "cell_type": "code",
      "metadata": {
        "id": "d8_SvILSucZ7",
        "colab_type": "code",
        "colab": {
          "base_uri": "https://localhost:8080/",
          "height": 35
        },
        "outputId": "6e59fa07-4764-480e-cb3e-2d726033bcb0"
      },
      "source": [
        "# Medição da precisão do novo modelo utilizando as amostras\n",
        "classify.score(X_test, y_test)"
      ],
      "execution_count": 32,
      "outputs": [
        {
          "output_type": "execute_result",
          "data": {
            "text/plain": [
              "0.8412302576891105"
            ]
          },
          "metadata": {
            "tags": []
          },
          "execution_count": 32
        }
      ]
    },
    {
      "cell_type": "code",
      "metadata": {
        "id": "XTCOa9gSup24",
        "colab_type": "code",
        "colab": {
          "base_uri": "https://localhost:8080/",
          "height": 181
        },
        "outputId": "aeaac3fd-7fc4-4afa-a0c3-92bed219b4d8"
      },
      "source": [
        "# Capacidade de predição do modelo\n",
        "preds = classify.predict(X_test)\n",
        "print(metrics.classification_report(y_test, preds))"
      ],
      "execution_count": 33,
      "outputs": [
        {
          "output_type": "stream",
          "text": [
            "              precision    recall  f1-score   support\n",
            "\n",
            "   Fake News       0.83      0.90      0.86       669\n",
            "        News       0.86      0.77      0.81       534\n",
            "\n",
            "    accuracy                           0.84      1203\n",
            "   macro avg       0.84      0.83      0.84      1203\n",
            "weighted avg       0.84      0.84      0.84      1203\n",
            "\n"
          ],
          "name": "stdout"
        }
      ]
    },
    {
      "cell_type": "markdown",
      "metadata": {
        "id": "JYUNoy08u8UI",
        "colab_type": "text"
      },
      "source": [
        "Vemos que com alteração temos uma melhora para detecção da fake news mas ainda com uma dificuldade encontrar as notícias."
      ]
    },
    {
      "cell_type": "markdown",
      "metadata": {
        "id": "7oJw3pJKc57L",
        "colab_type": "text"
      },
      "source": [
        "### Predição do Modelo\n",
        "Agora colocando o modelo para predizer uma Manchete"
      ]
    },
    {
      "cell_type": "code",
      "metadata": {
        "id": "OIzmw5gJc57L",
        "colab_type": "code",
        "colab": {}
      },
      "source": [
        "#Manchete da CNN\n",
        "texto  = \"Trump and his allies respond with pseudo-science as US death toll hits 150,000\"\n",
        "# Manchete do Before Its News\n",
        "texto2 = '10/3 Expo Park-Forbes Field Era: Pirates, Grays WS Win, Game Stories'"
      ],
      "execution_count": 43,
      "outputs": []
    },
    {
      "cell_type": "code",
      "metadata": {
        "id": "EFwFcXHmc57P",
        "colab_type": "code",
        "colab": {
          "base_uri": "https://localhost:8080/",
          "height": 54
        },
        "outputId": "b4709895-fff7-41c7-d5f8-0b49c1d23476"
      },
      "source": [
        "# Testando a predição do modelo\n",
        "print(classify.predict([texto]))\n",
        "print(classify.predict([texto2]))"
      ],
      "execution_count": 44,
      "outputs": [
        {
          "output_type": "stream",
          "text": [
            "['News']\n",
            "['Fake News']\n"
          ],
          "name": "stdout"
        }
      ]
    },
    {
      "cell_type": "code",
      "metadata": {
        "id": "27bccfOrNxry",
        "colab_type": "code",
        "colab": {
          "base_uri": "https://localhost:8080/",
          "height": 54
        },
        "outputId": "a1309c09-d11c-470e-87a6-bcc983e3fe2b"
      },
      "source": [
        "# Base da decisão pela classificação como News\n",
        "print(classify.predict_proba([texto]))\n",
        "print(classify.predict_proba([texto2]))"
      ],
      "execution_count": 45,
      "outputs": [
        {
          "output_type": "stream",
          "text": [
            "[[0.44903748 0.55096252]]\n",
            "[[0.99725876 0.00274124]]\n"
          ],
          "name": "stdout"
        }
      ]
    },
    {
      "cell_type": "markdown",
      "metadata": {
        "id": "_4QnzisJwezE",
        "colab_type": "text"
      },
      "source": [
        "Conseguimos ver que consegui ver que a analise para fake news eles tem a possibilide maior que a de noticias."
      ]
    }
  ]
}